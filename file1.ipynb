{
  "cells": [
    {
      "cell_type": "code",
      "execution_count": null,
      "id": "510d3973",
      "metadata": {
        "id": "510d3973",
        "outputId": "383b13f4-eeab-4f1f-d0ae-e4d1fd5e4670"
      },
      "outputs": [
        {
          "name": "stdout",
          "output_type": "stream",
          "text": [
            "texto de prueba\n"
          ]
        }
      ],
      "source": [
        "import numpy as np\n",
        "print(\"texto de prueba\")"
      ]
    },
    {
      "cell_type": "code",
      "execution_count": 1,
      "id": "9e69e9c7",
      "metadata": {
        "id": "9e69e9c7",
        "outputId": "672ac989-5894-4b0c-8fd5-750d5858741b",
        "colab": {
          "base_uri": "https://localhost:8080/"
        }
      },
      "outputs": [
        {
          "output_type": "stream",
          "name": "stdout",
          "text": [
            "segunda pruba\n"
          ]
        }
      ],
      "source": [
        "print(\"segunda pruba\")"
      ]
    }
  ],
  "metadata": {
    "kernelspec": {
      "display_name": "Python 3 (ipykernel)",
      "language": "python",
      "name": "python3"
    },
    "language_info": {
      "codemirror_mode": {
        "name": "ipython",
        "version": 3
      },
      "file_extension": ".py",
      "mimetype": "text/x-python",
      "name": "python",
      "nbconvert_exporter": "python",
      "pygments_lexer": "ipython3",
      "version": "3.10.6"
    },
    "colab": {
      "provenance": []
    }
  },
  "nbformat": 4,
  "nbformat_minor": 5
}